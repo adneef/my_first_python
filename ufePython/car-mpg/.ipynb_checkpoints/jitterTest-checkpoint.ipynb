{
 "cells": [
  {
   "cell_type": "code",
   "execution_count": 2,
   "metadata": {
    "collapsed": true
   },
   "outputs": [],
   "source": [
    "import pandas as pd\n",
    "\n",
    "from bokeh.models import Jitter\n",
    "from bokeh.layouts import column\n",
    "from bokeh.plotting import figure, show, output_file"
   ]
  },
  {
   "cell_type": "code",
   "execution_count": 4,
   "metadata": {
    "collapsed": true
   },
   "outputs": [],
   "source": [
    "df = pd.read_csv('car-clean-mpg.csv')"
   ]
  },
  {
   "cell_type": "code",
   "execution_count": 5,
   "metadata": {},
   "outputs": [
    {
     "name": "stdout",
     "output_type": "stream",
     "text": [
      "<class 'pandas.core.frame.DataFrame'>\n",
      "RangeIndex: 392 entries, 0 to 391\n",
      "Data columns (total 9 columns):\n",
      "mpg             392 non-null float64\n",
      "cylinders       392 non-null int64\n",
      "displacement    392 non-null float64\n",
      "horsepower      392 non-null float64\n",
      "weight          392 non-null float64\n",
      "acceleration    392 non-null float64\n",
      "model_year      392 non-null int64\n",
      "origin          392 non-null int64\n",
      "car_name        392 non-null object\n",
      "dtypes: float64(5), int64(3), object(1)\n",
      "memory usage: 27.6+ KB\n"
     ]
    }
   ],
   "source": [
    "df.info()"
   ]
  },
  {
   "cell_type": "code",
   "execution_count": 8,
   "metadata": {},
   "outputs": [],
   "source": [
    "colors = [\"red\", \"olive\", \"darkred\", \"goldenrod\", \"skyblue\", \"orange\", \"salmon\"]\n",
    "\n",
    "p1 = figure(plot_width=600, plot_height=300, title=\"Years vs mpg without jittering\")\n",
    "p2 = figure(plot_width=600, plot_height=300, title=\"Years vs mpg with jittering\")\n",
    "\n",
    "for i, year in enumerate(list(df.model_year.unique())):\n",
    "    y = df[df['model_year'] == year]['mpg']\n",
    "    color = colors[i % len(colors)]\n",
    "\n",
    "    p1.circle(x=year, y=y, color=color)\n",
    "    p2.circle(x={'value': year, 'transform': Jitter(width=1)}, y=y, color=color)\n",
    "    \n",
    "show(column(p1, p2))"
   ]
  },
  {
   "cell_type": "code",
   "execution_count": 10,
   "metadata": {
    "collapsed": true
   },
   "outputs": [],
   "source": [
    "colors = [\"red\", \"olive\", \"darkred\", \"goldenrod\", \"skyblue\", \"orange\", \"salmon\"]\n",
    "\n",
    "p1 = figure(plot_width=600, plot_height=300, title=\"Origin vs mpg without jittering\")\n",
    "p2 = figure(plot_width=600, plot_height=300, title=\"Origin vs mpg with jittering\")\n",
    "\n",
    "for i, origin in enumerate(list(df.origin.unique())):\n",
    "    y = df[df['origin'] == origin]['mpg']\n",
    "    color = colors[i % len(colors)]\n",
    "\n",
    "    p1.circle(x=origin, y=y, color=color)\n",
    "    p2.circle(x={'value': origin, 'transform': Jitter(width=0.25)}, y=y, color=color)\n",
    "    \n",
    "show(column(p1, p2))"
   ]
  },
  {
   "cell_type": "code",
   "execution_count": null,
   "metadata": {
    "collapsed": true
   },
   "outputs": [],
   "source": []
  }
 ],
 "metadata": {
  "kernelspec": {
   "display_name": "Python 3",
   "language": "python",
   "name": "python3"
  },
  "language_info": {
   "codemirror_mode": {
    "name": "ipython",
    "version": 3
   },
   "file_extension": ".py",
   "mimetype": "text/x-python",
   "name": "python",
   "nbconvert_exporter": "python",
   "pygments_lexer": "ipython3",
   "version": "3.6.2"
  }
 },
 "nbformat": 4,
 "nbformat_minor": 2
}
